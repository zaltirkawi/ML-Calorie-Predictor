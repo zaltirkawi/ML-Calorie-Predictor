{
 "cells": [
  {
   "cell_type": "code",
   "execution_count": null,
   "id": "83f88afd-8238-45d8-ad2e-a08ceca2b8ff",
   "metadata": {},
   "outputs": [],
   "source": [
    "# Importing preprocessed dataset\n",
    "import pandas as pd\n",
    "df = pd.read_csv('cleaned_data_filtered.csv')"
   ]
  },
  {
   "cell_type": "code",
   "execution_count": null,
   "id": "de4bee15-dc83-42f4-98ee-69ad9cfd057e",
   "metadata": {},
   "outputs": [],
   "source": [
    "print(df.shape)"
   ]
  },
  {
   "cell_type": "code",
   "execution_count": null,
   "id": "1add2588-6d27-48f6-8cbf-b3e8591daf04",
   "metadata": {},
   "outputs": [],
   "source": [
    "df.describe()"
   ]
  },
  {
   "cell_type": "code",
   "execution_count": null,
   "id": "62bcb467-82fe-4f83-a4a6-8e89f3dd9caa",
   "metadata": {},
   "outputs": [],
   "source": [
    "df.head()"
   ]
  },
  {
   "cell_type": "code",
   "execution_count": null,
   "id": "fd46a7b3-1c52-4029-aea1-5f2d9b5f77f7",
   "metadata": {},
   "outputs": [],
   "source": [
    "df = df.drop(columns=['name'])"
   ]
  },
  {
   "cell_type": "code",
   "execution_count": null,
   "id": "d05870cc-df50-4818-a48e-9b308aff2391",
   "metadata": {},
   "outputs": [],
   "source": [
    "df.head()"
   ]
  },
  {
   "cell_type": "code",
   "execution_count": null,
   "id": "1c16770f-bdf2-44d8-9f77-653896540103",
   "metadata": {},
   "outputs": [],
   "source": [
    "#Separating features X from labels y\n",
    "y = df['calories'].to_numpy()\n",
    "X = df.drop(columns=['calories']).to_numpy()"
   ]
  },
  {
   "cell_type": "code",
   "execution_count": null,
   "id": "59dbfb97-eda6-4eda-8cc1-d0167d240064",
   "metadata": {},
   "outputs": [],
   "source": [
    "# Scaling the data and dividing dataset into training and testing\n",
    "from sklearn.preprocessing import StandardScaler\n",
    "from sklearn.model_selection import train_test_split\n",
    "\n",
    "scaler = StandardScaler()\n",
    "X_scaled = scaler.fit_transform(X)\n",
    "X_train, X_test, y_train, y_test = train_test_split(X_scaled,y, test_size = 0.2)"
   ]
  },
  {
   "cell_type": "code",
   "execution_count": null,
   "id": "fc54bbc4-8fcb-41b6-a1b4-b090f0c0675d",
   "metadata": {},
   "outputs": [],
   "source": [
    "from sklearn.linear_model import LinearRegression\n",
    "LR = LinearRegression()\n",
    "LR.fit(X_train, y_train)\n",
    "LR.score(X_test, y_test) #testing accuracy"
   ]
  },
  {
   "cell_type": "code",
   "execution_count": null,
   "id": "086634fe-e94d-4c34-a299-980cceb7fb9b",
   "metadata": {},
   "outputs": [],
   "source": [
    "LR.score(X_train, y_train) #training accuracy"
   ]
  },
  {
   "cell_type": "code",
   "execution_count": null,
   "id": "962633eb-3e8a-4ef0-97cf-cc7f7b30f9fc",
   "metadata": {},
   "outputs": [],
   "source": [
    "#X_test = scaler.transform(X)\n",
    "y_pred = LR.predict(X_test)\n",
    "y_pred"
   ]
  },
  {
   "cell_type": "code",
   "execution_count": null,
   "id": "a7400b44-4e76-4b9a-b263-fbf195420edc",
   "metadata": {},
   "outputs": [],
   "source": [
    "print(y)"
   ]
  },
  {
   "cell_type": "code",
   "execution_count": null,
   "id": "77e0189d-5d57-46bd-baae-fdd1ca5c8ba7",
   "metadata": {},
   "outputs": [],
   "source": [
    "print(X)"
   ]
  },
  {
   "cell_type": "code",
   "execution_count": null,
   "id": "45cb8728-d931-4e3f-9f9d-5ecb922e5212",
   "metadata": {},
   "outputs": [],
   "source": [
    "import numpy as np\n",
    "\n",
    "# Creating a sample input\n",
    "sample_input = np.array([22, 32, 48, 39, 27, 5]) #This is the same as the third sample, so we're expecting something close to 269.8 calories\n",
    "\n",
    "# Reshaping (1, num_features)\n",
    "sample_input = sample_input.reshape(1, -1)\n",
    "\n",
    "sample_input_scaled = scaler.transform(sample_input)  # Use the same scaler from training\n",
    "\n",
    "# Making prediction\n",
    "predicted_value = LR.predict(sample_input_scaled)\n",
    "\n",
    "print(\"Predicted Calories:\", predicted_value)"
   ]
  },
  {
   "cell_type": "code",
   "execution_count": null,
   "id": "d256d436-c70b-4fbf-8263-5a698f193511",
   "metadata": {},
   "outputs": [],
   "source": [
    "# Plotting linear regression between each nutrtional value and the calories\n",
    "from matplotlib import pyplot as plt\n",
    "for i in range(6):\n",
    "    feature_index = i\n",
    "    \n",
    "    # Extract the corresponding feature values\n",
    "    X_train_feature = X_train[:, feature_index].reshape(-1, 1)\n",
    "    X_test_feature = X_test[:, feature_index].reshape(-1, 1)\n",
    "    \n",
    "    \n",
    "    # Fitting model for visualization using only one feature\n",
    "    LR_single = LinearRegression()\n",
    "    LR_single.fit(X_train_feature, y_train)\n",
    "    \n",
    "    y_pred_single = LR_single.predict(X_test_feature)\n",
    "    \n",
    "    # Plotting the actual data points\n",
    "    plt.scatter(X_test_feature, y_test, color='b', label=\"Actual data\")\n",
    "    \n",
    "    # Plotting the regression line\n",
    "    plt.plot(X_test_feature, y_pred_single, color='k', linewidth=2, label=\"Regression line\")\n",
    "\n",
    "    # Getting the feature names from the data\n",
    "    feature_names = df.drop(columns=['calories']).columns\n",
    "    # Choosing a feature index for visualization\n",
    "    feature_name = feature_names[feature_index]\n",
    "    \n",
    "    plt.xlabel(feature_name)\n",
    "    plt.ylabel(\"Calories\")\n",
    "    plt.legend()\n",
    "    plt.title(f\"Linear Regression on {feature_name}\")\n",
    "    \n",
    "    plt.show()"
   ]
  },
  {
   "cell_type": "code",
   "execution_count": null,
   "id": "34b73972-5c41-43fb-8479-23e8e71af6f6",
   "metadata": {},
   "outputs": [],
   "source": [
    "# Plotting linear regression between each nutrtional value and the calories\n",
    "from matplotlib import pyplot as plt\n",
    "for i in range(6):\n",
    "    feature_index = i\n",
    "    \n",
    "    # Splitting using single feature\n",
    "    X_single = X[:, feature_index].reshape(-1, 1)\n",
    "    single_scaler = StandardScaler()\n",
    "    X_single_scaled = single_scaler.fit_transform(X_single)\n",
    "    X_train_single, X_test_single, y_train_single, y_test_single = train_test_split(X_single_scaled,y, test_size = 0.2)\n",
    "    \n",
    "    # Fitting model using only one feature\n",
    "    LR_single = LinearRegression()\n",
    "    LR_single.fit(X_train_single, y_train_single)\n",
    "    \n",
    "    y_pred_single = LR_single.predict(X_test_single)\n",
    "    \n",
    "    # Plotting the actual data points\n",
    "    plt.scatter(X_test_single, y_test_single, color='b', label=\"Actual data\")\n",
    "    \n",
    "    # Plotting the regression line\n",
    "    plt.plot(X_test_single, y_pred_single, color='k', linewidth=2, label=\"Regression line\")\n",
    "\n",
    "    # Getting the feature names from the data\n",
    "    feature_names = df.drop(columns=['calories']).columns\n",
    "    feature_name = feature_names[feature_index]\n",
    "    \n",
    "    plt.xlabel(feature_name)\n",
    "    plt.ylabel(\"Calories\")\n",
    "    plt.legend()\n",
    "    plt.title(f\"Linear Regression on {feature_name}\")\n",
    "    plt.show()"
   ]
  },
  {
   "cell_type": "code",
   "execution_count": null,
   "id": "8f74a429-71f7-4eee-bf50-4ef2f3af9daf",
   "metadata": {},
   "outputs": [],
   "source": [
    "# Evaluation metrics\n",
    "from sklearn.metrics import mean_absolute_error,mean_squared_error,root_mean_squared_error,r2_score\n",
    "mae = mean_absolute_error(y_test, y_pred) \n",
    "mse = mean_squared_error(y_test, y_pred)\n",
    "rmse = root_mean_squared_error(y_test, y_pred) \n",
    "r2 = r2_score(y_test, y_pred) \n",
    "  \n",
    "print(\"MAE:\", mae) \n",
    "print(\"MSE:\", mse) \n",
    "print(\"RMSE:\", rmse)\n",
    "print(\"r2:\", r2)"
   ]
  },
  {
   "cell_type": "code",
   "execution_count": null,
   "id": "16ce531a-cf06-4c95-8441-5c717c918019",
   "metadata": {},
   "outputs": [],
   "source": [
    "#cross validation\n",
    "from sklearn.model_selection import cross_val_score\n",
    "scores = cross_val_score(LR, X, y, cv=5) #X and y will be split into folds\n",
    "(scores)"
   ]
  },
  {
   "cell_type": "code",
   "execution_count": null,
   "id": "e8834b47-d8ae-4477-b31f-de619dd2382c",
   "metadata": {},
   "outputs": [],
   "source": [
    "from sklearn.model_selection import cross_validate #more comprehensive: gives time, can show training scores, can show results for multiple metrics\n",
    "scores = cross_validate(LR, X, y, cv=5, return_train_score= True, scoring=('r2', 'neg_root_mean_squared_error','neg_mean_absolute_error','neg_mean_squared_error')) #X and y will be split into folds\n",
    "print(scores)"
   ]
  },
  {
   "cell_type": "code",
   "execution_count": null,
   "id": "fed35755-a2b5-4e7f-9ce9-27f9d1b1a581",
   "metadata": {},
   "outputs": [],
   "source": [
    "scores_df = pd.DataFrame(scores)\n",
    "summary_df = scores_df.mean().to_frame(name=\"Mean\")\n",
    "summary_df[\"Std Dev\"] = scores_df.std()\n",
    "print(summary_df)"
   ]
  },
  {
   "cell_type": "code",
   "execution_count": null,
   "id": "f72aae06-4087-4782-bd24-4ed3bb0c86e6",
   "metadata": {},
   "outputs": [],
   "source": []
  }
 ],
 "metadata": {
  "kernelspec": {
   "display_name": "Python [conda env:base] *",
   "language": "python",
   "name": "conda-base-py"
  },
  "language_info": {
   "codemirror_mode": {
    "name": "ipython",
    "version": 3
   },
   "file_extension": ".py",
   "mimetype": "text/x-python",
   "name": "python",
   "nbconvert_exporter": "python",
   "pygments_lexer": "ipython3",
   "version": "3.12.7"
  }
 },
 "nbformat": 4,
 "nbformat_minor": 5
}
