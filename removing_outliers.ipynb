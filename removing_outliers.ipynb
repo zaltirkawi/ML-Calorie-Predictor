{
 "cells": [
  {
   "cell_type": "code",
   "execution_count": 1,
   "id": "2b3ab769-2204-473e-827e-b0fcf9a386c4",
   "metadata": {},
   "outputs": [],
   "source": [
    "import pandas as pd\n",
    "\n",
    "df = pd.read_csv('cleaned_data_least_features.csv')\n",
    "\n",
    "threshold = 17500\n",
    "\n",
    "# Removing all rows where the calories > threshold\n",
    "df = df[df['calories'] <= threshold]\n",
    "df.to_csv('cleaned_data_least_features_filtered.csv', index=False)"
   ]
  },
  {
   "cell_type": "code",
   "execution_count": null,
   "id": "700e3982-5292-42d1-baf2-f53ebaf7c6a9",
   "metadata": {},
   "outputs": [],
   "source": []
  }
 ],
 "metadata": {
  "kernelspec": {
   "display_name": "Python [conda env:base] *",
   "language": "python",
   "name": "conda-base-py"
  },
  "language_info": {
   "codemirror_mode": {
    "name": "ipython",
    "version": 3
   },
   "file_extension": ".py",
   "mimetype": "text/x-python",
   "name": "python",
   "nbconvert_exporter": "python",
   "pygments_lexer": "ipython3",
   "version": "3.12.7"
  }
 },
 "nbformat": 4,
 "nbformat_minor": 5
}
